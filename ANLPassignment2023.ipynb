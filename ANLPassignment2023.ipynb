{
  "cells": [
    {
      "cell_type": "markdown",
      "metadata": {
        "id": "f2S8I2ny-ovS"
      },
      "source": [
        "# ANLP Assignment: Sentiment Classification\n",
        "\n",
        "In this assignment, you will be investigating NLP methods for distinguishing positive and negative reviews written about movies.\n",
        "\n",
        "For assessment, you are expected to complete and submit this notebook file.  When answers require code, you may import and use library functions (unless explicitly told otherwise).  All of your own code should be included in the notebook rather than imported from elsewhere.  Written answers should also be included in the notebook.  You should insert as many extra cells as you want and change the type between code and markdown as appropriate.\n",
        "\n",
        "In order to avoid misconduct, you should not talk about the assignment questions with your peers.  If you are not sure what a question is asking you to do or have any other questions, please ask me or one of the Teaching Assistants.\n",
        "\n",
        "Marking guidelines are provided as a separate document.\n",
        "\n",
        "The first few cells contain code to set-up the assignment and bring in some data.   In order to provide unique datasets for analysis by different students, you must enter your candidate number in the following cell.  Otherwise do not change the code in these cells."
      ]
    },
    {
      "cell_type": "code",
      "execution_count": 50,
      "metadata": {
        "id": "1gXQAZas-l9c"
      },
      "outputs": [],
      "source": [
        "candidateno=277260 #this MUST be updated to your candidate number so that you get a unique data sample"
      ]
    },
    {
      "cell_type": "code",
      "execution_count": 51,
      "metadata": {
        "id": "nk8JTP88A8vs",
        "colab": {
          "base_uri": "https://localhost:8080/"
        },
        "outputId": "1c2ea10d-6e02-4337-e5ea-cee0b74ae31e"
      },
      "outputs": [
        {
          "output_type": "stream",
          "name": "stderr",
          "text": [
            "[nltk_data] Downloading package punkt to /root/nltk_data...\n",
            "[nltk_data]   Package punkt is already up-to-date!\n",
            "[nltk_data] Downloading package stopwords to /root/nltk_data...\n",
            "[nltk_data]   Package stopwords is already up-to-date!\n",
            "[nltk_data] Downloading package movie_reviews to /root/nltk_data...\n",
            "[nltk_data]   Package movie_reviews is already up-to-date!\n"
          ]
        }
      ],
      "source": [
        "#do not change the code in this cell\n",
        "#preliminary imports\n",
        "\n",
        "#set up nltk\n",
        "import nltk\n",
        "nltk.download('punkt')\n",
        "nltk.download('stopwords')\n",
        "nltk.download('movie_reviews')\n",
        "from nltk.corpus import stopwords\n",
        "from nltk.tokenize import word_tokenize\n",
        "from nltk.corpus import movie_reviews\n",
        "\n",
        "#for setting up training and testing data\n",
        "import random\n",
        "\n",
        "#useful other tools\n",
        "import re\n",
        "import pandas as pd\n",
        "import matplotlib.pyplot as plt\n",
        "%matplotlib inline\n",
        "from itertools import zip_longest\n",
        "from nltk.probability import FreqDist\n",
        "from nltk.classify.api import ClassifierI\n"
      ]
    },
    {
      "cell_type": "code",
      "execution_count": 52,
      "metadata": {
        "id": "BHBkzAccCVaZ"
      },
      "outputs": [],
      "source": [
        "#do not change the code in this cell\n",
        "def split_data(data, ratio=0.7): # when the second argument is not given, it defaults to 0.7\n",
        "    \"\"\"\n",
        "    Given corpus generator and ratio:\n",
        "     - partitions the corpus into training data and test data, where the proportion in train is ratio,\n",
        "\n",
        "    :param data: A corpus generator.\n",
        "    :param ratio: The proportion of training documents (default 0.7)\n",
        "    :return: a pair (tuple) of lists where the first element of the\n",
        "            pair is a list of the training data and the second is a list of the test data.\n",
        "    \"\"\"\n",
        "\n",
        "    data = list(data)\n",
        "    n = len(data)\n",
        "    train_indices = random.sample(range(n), int(n * ratio))\n",
        "    test_indices = list(set(range(n)) - set(train_indices))\n",
        "    train = [data[i] for i in train_indices]\n",
        "    test = [data[i] for i in test_indices]\n",
        "    return (train, test)\n",
        "\n",
        "\n",
        "def get_train_test_data():\n",
        "\n",
        "    #get ids of positive and negative movie reviews\n",
        "    pos_review_ids=movie_reviews.fileids('pos')\n",
        "    neg_review_ids=movie_reviews.fileids('neg')\n",
        "\n",
        "    #split positive and negative data into training and testing sets\n",
        "    pos_train_ids, pos_test_ids = split_data(pos_review_ids)\n",
        "    neg_train_ids, neg_test_ids = split_data(neg_review_ids)\n",
        "    #add labels to the data and concatenate\n",
        "    training = [(movie_reviews.words(f),'pos') for f in pos_train_ids]+[(movie_reviews.words(f),'neg') for f in neg_train_ids]\n",
        "    testing = [(movie_reviews.words(f),'pos') for f in pos_test_ids]+[(movie_reviews.words(f),'neg') for f in neg_test_ids]\n",
        "\n",
        "    return training, testing"
      ]
    },
    {
      "cell_type": "markdown",
      "metadata": {
        "id": "1N3LWwBYICPP"
      },
      "source": [
        "When you have run the cell below, your unique training and testing samples will be stored in `training_data` and `testing_data`"
      ]
    },
    {
      "cell_type": "code",
      "execution_count": 53,
      "metadata": {
        "id": "HJLegkdPFUJA",
        "colab": {
          "base_uri": "https://localhost:8080/"
        },
        "outputId": "9cefe6a6-7ed0-444b-a781-a291c03763fd"
      },
      "outputs": [
        {
          "output_type": "stream",
          "name": "stdout",
          "text": [
            "The amount of training data is 1400\n",
            "The amount of testing data is 600\n",
            "The representation of a single data item is below\n",
            "(['for', 'the', 'first', 'reel', 'of', 'girls', 'town', ...], 'pos')\n"
          ]
        }
      ],
      "source": [
        "#do not change the code in this cell\n",
        "random.seed(candidateno)\n",
        "training_data,testing_data=get_train_test_data()\n",
        "print(\"The amount of training data is {}\".format(len(training_data)))\n",
        "print(\"The amount of testing data is {}\".format(len(testing_data)))\n",
        "print(\"The representation of a single data item is below\")\n",
        "print(training_data[0])"
      ]
    },
    {
      "cell_type": "markdown",
      "source": [
        "# **QUESTION 1**"
      ],
      "metadata": {
        "id": "r573s45HYJl3"
      }
    },
    {
      "cell_type": "markdown",
      "metadata": {
        "id": "RbTq6eGv2XT2"
      },
      "source": [
        "1)  \n",
        "a) **Generate** a list of 10 content words which are representative of the positive reviews in your training data.\n",
        "\n",
        "b) **Generate** a list of 10 content words which are representative of the negative reviews in your training data.\n",
        "\n",
        "c) **Explain** what you have done and why\n",
        "\n",
        "[20\\%]"
      ]
    },
    {
      "cell_type": "markdown",
      "source": [
        "## **Answer of 1.Question a) & b)**"
      ],
      "metadata": {
        "id": "TFnBX6WFoRae"
      }
    },
    {
      "cell_type": "markdown",
      "source": [
        "### **Normalization in Training Dataset:**"
      ],
      "metadata": {
        "id": "OQVu4flJQ1q7"
      }
    },
    {
      "cell_type": "markdown",
      "source": [
        "#### **Non-alphabetical character and stop word normalization:**"
      ],
      "metadata": {
        "id": "2Mys2iakQ9PV"
      }
    },
    {
      "cell_type": "code",
      "source": [
        "#the total number of stop words in training data\n",
        "count_stopwords=0\n",
        "cnt_word=0\n",
        "for i in training_data:\n",
        "  for word in i[0]:\n",
        "    cnt_word+=1\n",
        "    if (word.isalpha()==False) or (word in stopwords.words('english')):\n",
        "      count_stopwords+=1\n",
        "print(\"The total number of stop words in training dataset: {}({:.2f}% of total words)\".format(count_stopwords,count_stopwords*100/cnt_word))"
      ],
      "metadata": {
        "colab": {
          "base_uri": "https://localhost:8080/"
        },
        "id": "8glBjrP4GejQ",
        "outputId": "e1a01cbc-4ebf-412a-86ed-970a787089c5"
      },
      "execution_count": 54,
      "outputs": [
        {
          "output_type": "stream",
          "name": "stdout",
          "text": [
            "The total number of stop words in training dataset: 613255(55.78% of total words)\n"
          ]
        }
      ]
    },
    {
      "cell_type": "code",
      "source": [
        "#making the first normalization in training data by removing stopwords,and the words which contain unalphabetical characters\n",
        "normalized_1=[]\n",
        "for i in training_data:\n",
        "  alist=[]\n",
        "  atuple=()\n",
        "  for word in i[0]:\n",
        "    if word.isalpha() and (word not in stopwords.words('english')):\n",
        "      alist.append(word)\n",
        "  atuple=(alist,i[1])\n",
        "  normalized_1.append(atuple)"
      ],
      "metadata": {
        "id": "thLFAB0JcS_o"
      },
      "execution_count": 55,
      "outputs": []
    },
    {
      "cell_type": "code",
      "source": [
        "#the total number of stop words in training data after the first normalization\n",
        "count_stopwords_1=0\n",
        "for i in normalized_1:\n",
        "  for word in i[0]:\n",
        "    if (word.isalpha()==False) or (word in stopwords.words('english')):\n",
        "      count_stopwords_1+=1\n",
        "print(\"The total number of stop words in normalized training dataset: {}\".format(count_stopwords_1))"
      ],
      "metadata": {
        "colab": {
          "base_uri": "https://localhost:8080/"
        },
        "id": "kfNDn6UaH2iz",
        "outputId": "5ad44c80-e01d-490a-cd59-af1f3aafa1ba"
      },
      "execution_count": 56,
      "outputs": [
        {
          "output_type": "stream",
          "name": "stdout",
          "text": [
            "The total number of stop words in normalized training dataset: 0\n"
          ]
        }
      ]
    },
    {
      "cell_type": "markdown",
      "source": [
        "####  **Lemmatization:**\n",
        "\n"
      ],
      "metadata": {
        "id": "YWB8of4vR7pf"
      }
    },
    {
      "cell_type": "code",
      "source": [
        "#libraries for lemmatization\n",
        "from nltk.corpus import wordnet as wn\n",
        "from nltk.stem import WordNetLemmatizer\n",
        "import nltk\n",
        "nltk.download('wordnet')"
      ],
      "metadata": {
        "colab": {
          "base_uri": "https://localhost:8080/"
        },
        "id": "1TBEGS-5EBrT",
        "outputId": "b76ef865-41e8-4157-c1df-8f7e23c4d029"
      },
      "execution_count": 57,
      "outputs": [
        {
          "output_type": "stream",
          "name": "stderr",
          "text": [
            "[nltk_data] Downloading package wordnet to /root/nltk_data...\n",
            "[nltk_data]   Package wordnet is already up-to-date!\n"
          ]
        },
        {
          "output_type": "execute_result",
          "data": {
            "text/plain": [
              "True"
            ]
          },
          "metadata": {},
          "execution_count": 57
        }
      ]
    },
    {
      "cell_type": "code",
      "source": [
        "#determining lemmatizer function to a variable not to call it by writing many characters every time\n",
        "wnl = WordNetLemmatizer()"
      ],
      "metadata": {
        "id": "WLa0AvA5EDwg"
      },
      "execution_count": 58,
      "outputs": []
    },
    {
      "cell_type": "code",
      "source": [
        "#checking whether it works\n",
        "print(wnl.lemmatize('dogs'))"
      ],
      "metadata": {
        "colab": {
          "base_uri": "https://localhost:8080/"
        },
        "id": "Ou5R3Qv_EN2H",
        "outputId": "41a8928e-da67-4d18-88d5-9895082860d5"
      },
      "execution_count": 59,
      "outputs": [
        {
          "output_type": "stream",
          "name": "stdout",
          "text": [
            "dog\n"
          ]
        }
      ]
    },
    {
      "cell_type": "code",
      "source": [
        "#checking the number of characters in total reviews before lemmatization\n",
        "cw_bef_lem=0\n",
        "for i in normalized_1:\n",
        "  for word in i[0]:\n",
        "    cw_bef_lem+=len(word)\n",
        "\n",
        "print(\"The length of words in the reviews before lemmatization: {} characters\".format(cw_bef_lem))"
      ],
      "metadata": {
        "colab": {
          "base_uri": "https://localhost:8080/"
        },
        "id": "jpcDI27eIm54",
        "outputId": "9c401176-58e7-456f-f36f-3eaf303b4c3b"
      },
      "execution_count": 60,
      "outputs": [
        {
          "output_type": "stream",
          "name": "stdout",
          "text": [
            "The length of words in the reviews before lemmatization: 2932952 characters\n"
          ]
        }
      ]
    },
    {
      "cell_type": "code",
      "source": [
        "#lemmatization of normalized data\n",
        "#after this part, the number of frequency of some words can increase because of removing suffixes from the words\n",
        "normalized_training_data=[]\n",
        "for i in normalized_1:\n",
        "  alist=[]\n",
        "  atuple=()\n",
        "  for word in i[0]:\n",
        "    alist.append(wnl.lemmatize(word))\n",
        "  atuple=(alist,i[1])\n",
        "  normalized_training_data.append(atuple)"
      ],
      "metadata": {
        "id": "XK9wI13jE1U3"
      },
      "execution_count": 61,
      "outputs": []
    },
    {
      "cell_type": "code",
      "source": [
        "#checking the number of characters in total reviews after lemmatization\n",
        "cw_aft_lem=0\n",
        "for i in normalized_training_data:\n",
        "  for word in i[0]:\n",
        "    cw_aft_lem+=len(word)\n",
        "dif=cw_bef_lem-cw_aft_lem\n",
        "print(\"The length of words in the reviews after lemmatization: {}, the decrease is {}({:.2f}%) characters\".format(cw_aft_lem,dif,dif*100/cw_bef_lem))"
      ],
      "metadata": {
        "colab": {
          "base_uri": "https://localhost:8080/"
        },
        "id": "CsDhi8hBJC5A",
        "outputId": "6126ea6a-33cd-449d-f502-3dc0d3eaf5f4"
      },
      "execution_count": 62,
      "outputs": [
        {
          "output_type": "stream",
          "name": "stdout",
          "text": [
            "The length of words in the reviews after lemmatization: 2873836, the decrease is 59116(2.02%) characters\n"
          ]
        }
      ]
    },
    {
      "cell_type": "markdown",
      "source": [
        "#### **Examination of lowercase necessity:**"
      ],
      "metadata": {
        "id": "qBZ6QEr2SQpN"
      }
    },
    {
      "cell_type": "code",
      "source": [
        "# checking whether lowercase is needed\n",
        "empty_list=[]\n",
        "for i in normalized_training_data:\n",
        "  for word in i[0]:\n",
        "    if word.islower() is not True:\n",
        "      empty_list.append(word)\n",
        "if len(empty_list)>0:\n",
        "  print('lowercase normalization is necessary in {} words'.format(len(empty_list)))\n",
        "elif len(empty_list)==0:\n",
        "  print('lowercase normalization is not necessary')"
      ],
      "metadata": {
        "id": "m2UjYHvccS69",
        "colab": {
          "base_uri": "https://localhost:8080/"
        },
        "outputId": "bf3fec54-a3b3-40b5-e770-7c2442ae3a46"
      },
      "execution_count": 63,
      "outputs": [
        {
          "output_type": "stream",
          "name": "stdout",
          "text": [
            "lowercase normalization is not necessary\n"
          ]
        }
      ]
    },
    {
      "cell_type": "markdown",
      "source": [
        "\n",
        "\n",
        "###  **Frequency Distributions:**\n",
        "\n"
      ],
      "metadata": {
        "id": "qh6v-yJFSZGS"
      }
    },
    {
      "cell_type": "code",
      "source": [
        "#creating a frequency distribution for both positive and negative\n",
        "positive_frequent=FreqDist()\n",
        "negative_frequent=FreqDist()\n",
        "\n",
        "for i,label in normalized_training_data:\n",
        "    data=tuple(i)\n",
        "    if label=='pos':\n",
        "      for a in data:\n",
        "        positive_frequent[a]+=1\n",
        "    elif label=='neg':\n",
        "      for a in data:\n",
        "        negative_frequent[a]+=1"
      ],
      "metadata": {
        "id": "npds3X6RcS5P"
      },
      "execution_count": 64,
      "outputs": []
    },
    {
      "cell_type": "code",
      "source": [
        "# the most frequent 10 words in positive\n",
        "positive_frequent.most_common(10)"
      ],
      "metadata": {
        "colab": {
          "base_uri": "https://localhost:8080/"
        },
        "id": "LkMLJm4LsMEu",
        "outputId": "a6a0dc1f-3048-4eb3-a51c-0cc7c5775251"
      },
      "execution_count": 65,
      "outputs": [
        {
          "output_type": "execute_result",
          "data": {
            "text/plain": [
              "[('film', 4222),\n",
              " ('one', 2243),\n",
              " ('movie', 2195),\n",
              " ('character', 1397),\n",
              " ('like', 1289),\n",
              " ('time', 1073),\n",
              " ('story', 957),\n",
              " ('scene', 953),\n",
              " ('get', 927),\n",
              " ('make', 925)]"
            ]
          },
          "metadata": {},
          "execution_count": 65
        }
      ]
    },
    {
      "cell_type": "code",
      "source": [
        "# the most frequent 10 words in negative\n",
        "negative_frequent.most_common(10)"
      ],
      "metadata": {
        "colab": {
          "base_uri": "https://localhost:8080/"
        },
        "id": "QkdfPNBz3ISF",
        "outputId": "e890d043-76f8-4008-ad68-35b5319429b1"
      },
      "execution_count": 66,
      "outputs": [
        {
          "output_type": "execute_result",
          "data": {
            "text/plain": [
              "[('film', 3377),\n",
              " ('movie', 2657),\n",
              " ('one', 1994),\n",
              " ('like', 1323),\n",
              " ('character', 1277),\n",
              " ('get', 1055),\n",
              " ('time', 962),\n",
              " ('even', 932),\n",
              " ('scene', 897),\n",
              " ('make', 885)]"
            ]
          },
          "metadata": {},
          "execution_count": 66
        }
      ]
    },
    {
      "cell_type": "markdown",
      "source": [
        "\n",
        "\n",
        "###   **Creating Representative Word Lists:**\n"
      ],
      "metadata": {
        "id": "KOFhmycySiXx"
      }
    },
    {
      "cell_type": "code",
      "source": [
        "# taking the differences in both positive and negative frequency list in order to find out which word is more relevant to which category\n",
        "difference_pos=positive_frequent-negative_frequent\n",
        "sorted_diff_pos=difference_pos.most_common()\n",
        "filtered_pos=[word for (word,num) in sorted_diff_pos if num>10]\n",
        "\n",
        "difference_neg=negative_frequent-positive_frequent\n",
        "sorted_diff_neg=difference_neg.most_common()\n",
        "filtered_neg=[(word) for (word,num) in sorted_diff_neg if num>10]\n"
      ],
      "metadata": {
        "id": "AVLN2BOPiE4I"
      },
      "execution_count": 67,
      "outputs": []
    },
    {
      "cell_type": "code",
      "source": [
        "#Representative Positive Word List\n",
        "# taking the first 10 most common words in positive list\n",
        "pos_represent=filtered_pos[:10]\n",
        "print(\"10 Positive Content Words:\")\n",
        "print(\"---------------------------\")\n",
        "pos_represent"
      ],
      "metadata": {
        "id": "hlkqe7lqiE0Z",
        "colab": {
          "base_uri": "https://localhost:8080/"
        },
        "outputId": "aaaefd11-ac2c-4abf-909c-a74f9b622b7e"
      },
      "execution_count": 71,
      "outputs": [
        {
          "output_type": "stream",
          "name": "stdout",
          "text": [
            "10 Positive Content Words:\n",
            "---------------------------\n"
          ]
        },
        {
          "output_type": "execute_result",
          "data": {
            "text/plain": [
              "['film',\n",
              " 'life',\n",
              " 'also',\n",
              " 'performance',\n",
              " 'well',\n",
              " 'story',\n",
              " 'great',\n",
              " 'world',\n",
              " 'one',\n",
              " 'best']"
            ]
          },
          "metadata": {},
          "execution_count": 71
        }
      ]
    },
    {
      "cell_type": "code",
      "source": [
        "#Representative Negative Word List\n",
        "# taking the first 10 most common words in negative list\n",
        "neg_represent=filtered_neg[:10]\n",
        "print(\"10 Negative Content Words:\")\n",
        "print(\"---------------------------\")\n",
        "neg_represent"
      ],
      "metadata": {
        "id": "UvKr4s17cS3O",
        "colab": {
          "base_uri": "https://localhost:8080/"
        },
        "outputId": "c612098c-4900-4752-9ea0-cfcfc846cd14"
      },
      "execution_count": 72,
      "outputs": [
        {
          "output_type": "stream",
          "name": "stdout",
          "text": [
            "10 Negative Content Words:\n",
            "---------------------------\n"
          ]
        },
        {
          "output_type": "execute_result",
          "data": {
            "text/plain": [
              "['bad',\n",
              " 'movie',\n",
              " 'plot',\n",
              " 'worst',\n",
              " 'nothing',\n",
              " 'minute',\n",
              " 'get',\n",
              " 'script',\n",
              " 'could',\n",
              " 'attempt']"
            ]
          },
          "metadata": {},
          "execution_count": 72
        }
      ]
    },
    {
      "cell_type": "markdown",
      "source": [
        "##**Answer of 1.Question c)**\n",
        "1.   At first, I created a normalized_1 data by **removing stopwords,and the words which contain unalphabetical characters** (these covered **55.78%** of the total words in training data, before the first normalization).\n",
        "\n",
        "2. Next, I applied **lemmatization** in order to increase the frequencies of the words in frequency distributions. After the lemmatization the number of total characters decreased by **2.02%**. For example, the word of begin has other forms like beginning,and began. After lemmatize it, it will find exactly the root of word (begin). Thus, each frequency increases, while the number of different word types of the same words decrease. Also, I checked whether **lowercase normalization** is necessary, but it can be seen that it's not necessary, since the review list doesn't contain any capital letters.\n",
        "\n",
        "3.   After that, I found the frequencies of the each element(word) in the lists in order to find the most frequent words in each review type. Then, I subtracted the numbers of frequencies from each other to understand which words are more relevant to which category (positive or negative).\n",
        "\n",
        "4.  At last, I took the most 10 frequent words from each list, because we needed to take the first 10 among them."
      ],
      "metadata": {
        "id": "EXmitu-x4ev3"
      }
    },
    {
      "cell_type": "markdown",
      "source": [
        "# **QUESTION 2**"
      ],
      "metadata": {
        "id": "sMxWUQ9fY50R"
      }
    },
    {
      "cell_type": "markdown",
      "metadata": {
        "id": "TApOQE6vND20"
      },
      "source": [
        "2)\n",
        "a) **Use** the lists generated in Q1 to build a **word list classifier** which will classify reviews as being positive or negative.\n",
        "\n",
        "b) **Explain** what you have done.\n",
        "\n",
        "[12.5\\%]\n"
      ]
    },
    {
      "cell_type": "markdown",
      "source": [
        "## **Answer of 2.Question a)**"
      ],
      "metadata": {
        "id": "OmvNcJ7CUs3C"
      }
    },
    {
      "cell_type": "markdown",
      "source": [
        "### **Normalization in Test Dataset:**"
      ],
      "metadata": {
        "id": "GvNhM7awP9o1"
      }
    },
    {
      "cell_type": "markdown",
      "source": [
        "\n",
        "#### **Non-alphaabetical character and stop word normalization:**\n",
        "\n",
        "\n"
      ],
      "metadata": {
        "id": "PgiOuc5-QHJs"
      }
    },
    {
      "cell_type": "code",
      "source": [
        "#the total number of stop words in testing data before the first normalization\n",
        "count_stopwords_test=0\n",
        "cnt_word_test=0\n",
        "for i in testing_data:\n",
        "  for word in i[0]:\n",
        "    cnt_word_test+=1\n",
        "    if (word.isalpha()==False) or (word in stopwords.words('english')):\n",
        "      count_stopwords_test+=1\n",
        "print(\"The total number of stop words in testing dataset: {}({:.2f}% of total words)\".format(count_stopwords_test,count_stopwords_test*100/cnt_word_test))"
      ],
      "metadata": {
        "colab": {
          "base_uri": "https://localhost:8080/"
        },
        "id": "x7_O0CN5NJOZ",
        "outputId": "571f2ee1-7e56-4684-acd9-5dac713e5396"
      },
      "execution_count": 73,
      "outputs": [
        {
          "output_type": "stream",
          "name": "stdout",
          "text": [
            "The total number of stop words in testing dataset: 269022(55.54% of total words)\n"
          ]
        }
      ]
    },
    {
      "cell_type": "code",
      "source": [
        "#making the first normalization in testing data by removing stopwords,and the words which contain unalphabetical characters\n",
        "normalized_1_test=[]\n",
        "for i in testing_data:\n",
        "  alist=[]\n",
        "  atuple=()\n",
        "  for word in i[0]:\n",
        "    if word.isalpha() and (word not in stopwords.words('english')):\n",
        "      alist.append(word)\n",
        "  atuple=(alist,i[1])\n",
        "  normalized_1_test.append(atuple)"
      ],
      "metadata": {
        "id": "pLpI7wpSM_2-"
      },
      "execution_count": 74,
      "outputs": []
    },
    {
      "cell_type": "code",
      "source": [
        "#the total number of stop words in testing data after the first normalization\n",
        "count_stopwords_1_test=0\n",
        "for i in normalized_1_test:\n",
        "  for word in i[0]:\n",
        "    if (word.isalpha()==False) or (word in stopwords.words('english')):\n",
        "      count_stopwords_1_test+=1\n",
        "print(\"The total number of stop words in normalized training dataset after the first normalization: {}\".format(count_stopwords_1_test))"
      ],
      "metadata": {
        "colab": {
          "base_uri": "https://localhost:8080/"
        },
        "id": "Qp9wvgVbPEy3",
        "outputId": "23307100-be69-4e1d-9656-5965b63fc4ea"
      },
      "execution_count": 76,
      "outputs": [
        {
          "output_type": "stream",
          "name": "stdout",
          "text": [
            "The total number of stop words in normalized training dataset after the first normalization: 0\n"
          ]
        }
      ]
    },
    {
      "cell_type": "markdown",
      "source": [
        "\n",
        "\n",
        "####  **Lemmatization:**\n",
        "\n"
      ],
      "metadata": {
        "id": "f9fNUrdQQlDk"
      }
    },
    {
      "cell_type": "code",
      "source": [
        "#checking the number of characters in total reviews before lemmatization on testing dataset\n",
        "test_bef_lem=0\n",
        "for i in normalized_1_test:\n",
        "  for word in i[0]:\n",
        "    test_bef_lem+=len(word)\n",
        "\n",
        "print(\"The length of words in the reviews before lemmatization: {} characters\".format(test_bef_lem))"
      ],
      "metadata": {
        "colab": {
          "base_uri": "https://localhost:8080/"
        },
        "id": "nSt3PgVsMiMd",
        "outputId": "2749af83-5a95-4c12-d466-71b9f67317dd"
      },
      "execution_count": 77,
      "outputs": [
        {
          "output_type": "stream",
          "name": "stdout",
          "text": [
            "The length of words in the reviews before lemmatization: 1301472 characters\n"
          ]
        }
      ]
    },
    {
      "cell_type": "code",
      "source": [
        "#lemmatization of testing data\n",
        "normalized_testing_data=[]\n",
        "for i in normalized_1_test:\n",
        "  alist=[]\n",
        "  atuple=()\n",
        "  for word in i[0]:\n",
        "    alist.append(wnl.lemmatize(word))\n",
        "  atuple=(alist,i[1])\n",
        "  normalized_testing_data.append(atuple)"
      ],
      "metadata": {
        "id": "B1C0UDnvMslo"
      },
      "execution_count": 78,
      "outputs": []
    },
    {
      "cell_type": "code",
      "source": [
        "#checking the number of characters in total reviews after lemmatization\n",
        "test_aft_lem=0\n",
        "for i in normalized_testing_data:\n",
        "  for word in i[0]:\n",
        "    test_aft_lem+=len(word)\n",
        "dif_lem_test=test_bef_lem-test_aft_lem\n",
        "print(\"The length of words in the reviews after lemmatization: {}, the decrease is {}({:.2f}%) characters\".format(test_aft_lem,dif_lem_test,dif_lem_test*100/test_bef_lem))"
      ],
      "metadata": {
        "colab": {
          "base_uri": "https://localhost:8080/"
        },
        "id": "tII4j4Y8QqvJ",
        "outputId": "07647710-17c9-408e-a0e2-65055d80bd8d"
      },
      "execution_count": 79,
      "outputs": [
        {
          "output_type": "stream",
          "name": "stdout",
          "text": [
            "The length of words in the reviews after lemmatization: 1275327, the decrease is 26145(2.01%) characters\n"
          ]
        }
      ]
    },
    {
      "cell_type": "code",
      "source": [
        "# checking whether lowercase is needed on testing_data\n",
        "empty_list=[]\n",
        "for i in normalized_testing_data:\n",
        "  for word in i[0]:\n",
        "    if word.isalpha() and word.islower() is not True:\n",
        "      empty_list.append(word)\n",
        "if len(empty_list)>0:\n",
        "  print('lowercase normalization is necessary in {} words'.format(len(empty_list)))\n",
        "elif len(empty_list)==0:\n",
        "  print('lowercase normalization is not necessary')"
      ],
      "metadata": {
        "colab": {
          "base_uri": "https://localhost:8080/"
        },
        "id": "Cm0zr3QyWCMz",
        "outputId": "428f6a2e-af2e-4547-a3a5-ecd416e4fb78"
      },
      "execution_count": 80,
      "outputs": [
        {
          "output_type": "stream",
          "name": "stdout",
          "text": [
            "lowercase normalization is not necessary\n"
          ]
        }
      ]
    },
    {
      "cell_type": "markdown",
      "source": [
        "\n",
        "\n",
        "###   **Creating Wordlist Classifier Function:**\n"
      ],
      "metadata": {
        "id": "F1fQ6eMCU0xB"
      }
    },
    {
      "cell_type": "code",
      "source": [
        "#creating wordlist classifier function\n",
        "def wordlist_classifier(normalized_testing_data,filtered_pos,filtered_neg):\n",
        "  sum_p=0\n",
        "  sum_n=0\n",
        "  notr=0\n",
        "  number_pos=0\n",
        "  number_neg=0\n",
        "  predicted_list=[]\n",
        "  result=0\n",
        "  #\"i\" takes the list of reviews, while \"label\" takes the value of either pos or neg\n",
        "  for i,label in normalized_testing_data:\n",
        "    #word_list must be equal to an empty list to add new values each time\n",
        "    word_list=[]\n",
        "    for word in i:\n",
        "      #adding the words to the list one by one\n",
        "      word_list.append(word)\n",
        "      #finding the sum of negative and positive words in the list\n",
        "      if word in filtered_pos:\n",
        "        sum_p+=1\n",
        "      elif word in filtered_neg:\n",
        "        sum_n+=1\n",
        "    #comparison which one is bigger or equal\n",
        "    if sum_p>sum_n:\n",
        "      result='pos'\n",
        "      number_pos+=1\n",
        "    elif sum_n>sum_p:\n",
        "      result='neg'\n",
        "      number_neg+=1\n",
        "    #if it is equal(as for notr reviews), then the result will be given as positive\n",
        "    else:\n",
        "      notr+=1\n",
        "      result='neg'\n",
        "    #adding them to a tuple\n",
        "    c=(i,result)\n",
        "    #adding tuple into the predicted list in order to make the same data type as testing data set\n",
        "    predicted_list.append(c)\n",
        "    #total positive and negative numbers must be equal 0, otherwise the cumulative value will be added each time\n",
        "    sum_p=0\n",
        "    sum_n=0\n",
        "  #finding the total number of predicted reviews, whether the size of it is the same as our original testing data set\n",
        "  total=number_pos+number_neg+notr\n",
        "  return number_pos,number_neg,total,notr,predicted_list\n"
      ],
      "metadata": {
        "id": "PXyM8EMAvP8L"
      },
      "execution_count": 81,
      "outputs": []
    },
    {
      "cell_type": "code",
      "source": [
        "#working wordlist classifier function\n",
        "(number_pos,number_neg,total,notr,predicted_list)=wordlist_classifier(normalized_testing_data,filtered_pos[:10],filtered_neg[:10])"
      ],
      "metadata": {
        "id": "B_Ctluanvkri"
      },
      "execution_count": 82,
      "outputs": []
    },
    {
      "cell_type": "code",
      "source": [
        "#printing results\n",
        "print(\"The number of positive prediction: {}\\nThe number of negative prediction: {}\\nTotal number of predicted data: {}\".format(number_pos,number_neg,total))\n",
        "print(\"The number of reviews which turned from notr to negative: {}\".format(notr))\n",
        "print(\"-------------------------------------------------------------------------\")\n",
        "print(\"The label of the first review of the predicted list: {}\".format(predicted_list[0][-1]))\n"
      ],
      "metadata": {
        "colab": {
          "base_uri": "https://localhost:8080/"
        },
        "id": "E5trj6BxvtM6",
        "outputId": "a8d34699-f4df-4c6b-b2f5-216a8afccdf8"
      },
      "execution_count": 92,
      "outputs": [
        {
          "output_type": "stream",
          "name": "stdout",
          "text": [
            "The number of positive prediction: 450\n",
            "The number of negative prediction: 126\n",
            "Total number of predicted data: 600\n",
            "The number of reviews which turned from notr to negative: 24\n",
            "-------------------------------------------------------------------------\n",
            "The label of the first review of the predicted list: pos\n"
          ]
        }
      ]
    },
    {
      "cell_type": "markdown",
      "metadata": {
        "id": "C6vK5Vyz2XUF"
      },
      "source": [
        "## **Answer of 2.Question b)**\n",
        "\n",
        "**Normalization on Testing Dataset Part:**\n",
        "1. At first, I created a normalized_1_test data by **removing stopwords,and the words which contain unalphabetical characters** (these covered **55.54%** of the total words in training data, before the first normalization).\n",
        "\n",
        "2. Next, I applied **lemmatization** in order to increase the possibility of matching in a better way for each word. After the lemmatization the number of total characters decreased by **2.01%**.\n",
        "\n",
        "3. **Lowercase normalisation** wasn't necessary for the testing dataset as well.\n",
        "-------------------\n",
        "**Creating Classifier Part:**\n",
        "1. I took the data as lists,and labels by 2 different variables in testing data respectively. After that, I added inner loop to take each element(word) from the list. In this way, I could check whether this element could be found in any of the 10-most-frequent-words list created for both positive, and negative.\n",
        "\n",
        "2.   If the element can be found in any of these lists, I increased the number of relevant representative number by counters.\n",
        "\n",
        "3. Even though some of the reviews have equal numbers of negative and positive reviews (in other words these were notr ones), I counted them as negative reviews.\n",
        "\n",
        "4. I stored them in the same way as the dataset like **[([review-1],’label-1’),([review-2],’label-2’)…]**\n",
        "\n",
        "5. At last, I printed all of the findings.\n",
        "\n",
        "\n",
        "\n",
        "\n",
        "\n",
        "\n",
        "\n",
        "\n",
        "\n",
        "\n",
        "\n",
        "\n",
        "\n",
        "\n",
        "\n"
      ]
    },
    {
      "cell_type": "markdown",
      "source": [
        "# **QUESTION 3**"
      ],
      "metadata": {
        "id": "tSK896SNZSIX"
      }
    },
    {
      "cell_type": "markdown",
      "metadata": {
        "id": "YZdDO_Y92XUH"
      },
      "source": [
        "3)\n",
        "a) **Calculate** the accuracy, precision, recall and F1 score of your classifier.\n",
        "\n",
        "b) Is it reasonable to evaluate the classifier in terms of its accuracy?  **Explain** your answer and give a counter-example (a scenario where it would / would not be reasonable to evaluate the classifier in terms of its accuracy).\n",
        "\n",
        "[20\\%]"
      ]
    },
    {
      "cell_type": "markdown",
      "source": [
        "## **Answer of 3.Question a)**"
      ],
      "metadata": {
        "id": "fEGjj-UVVFUv"
      }
    },
    {
      "cell_type": "markdown",
      "source": [
        "\n",
        "\n",
        "###   **Creating a Function for Score Calculation in Wordlist Classifier:**\n",
        "\n"
      ],
      "metadata": {
        "id": "MKk1FvJBVstD"
      }
    },
    {
      "cell_type": "code",
      "execution_count": 93,
      "metadata": {
        "id": "1LQc8bsA2XUI"
      },
      "outputs": [],
      "source": [
        "#creating a function to calculate the score parameters for Wordlist Classifier\n",
        "def wordlist_score_calculator(predicted_list,normalized_testing_data):\n",
        "  TP=0\n",
        "  TN=0\n",
        "  FP=0\n",
        "  FN=0\n",
        "  for (i_pred,label_pred),(i_act,label_act) in zip(predicted_list,normalized_testing_data):\n",
        "    #True positive calculation\n",
        "    if label_act=='pos' and label_pred=='pos':\n",
        "      TP+=1\n",
        "    #True negative calculation\n",
        "    elif label_act=='neg' and label_pred=='neg':\n",
        "      TN+=1\n",
        "    #False positive calculation\n",
        "    elif label_act=='neg' and label_pred=='pos':\n",
        "      FP+=1\n",
        "    #False negative calculation\n",
        "    elif label_act=='pos' and label_pred=='neg':\n",
        "      FN+=1\n",
        "\n",
        "  Total=TP+TN+FP+FN\n",
        "  Accuracy=(TP+TN)/Total\n",
        "  Error_rate=(FN+FP)/Total\n",
        "  Recall=TP/(TP+FN)\n",
        "  Precision=TP/(TP+FP)\n",
        "  F1_score=2*Precision*Recall/(Precision+Recall)\n",
        "  return TP,TN,FP,FN,Total,Accuracy,Error_rate,Recall,Precision,F1_score\n"
      ]
    },
    {
      "cell_type": "markdown",
      "source": [
        "### **Printing the Score Parameters for Wordlist Classifier:**"
      ],
      "metadata": {
        "id": "XNXPY5P6X0Cs"
      }
    },
    {
      "cell_type": "code",
      "execution_count": 108,
      "metadata": {
        "id": "R_i80ceP2XUJ",
        "colab": {
          "base_uri": "https://localhost:8080/"
        },
        "outputId": "b4170a4a-2736-4871-86ae-971f456d0059"
      },
      "outputs": [
        {
          "output_type": "stream",
          "name": "stdout",
          "text": [
            "The Scores for Wordlist Classifier:\n",
            "-----------------------------------\n",
            "TP: 258\n",
            "TN: 108\n",
            "FP: 192\n",
            "FN: 42\n",
            "Total: 600\n",
            "Accuracy: 0.61\n",
            "Error_rate: 0.39\n",
            "Recall: 0.86\n",
            "Precision: 0.57\n",
            "F1 Score: 0.69\n",
            "-----------------------------------\n"
          ]
        }
      ],
      "source": [
        "#printing the score parameters for Wordlist Classifier\n",
        "print(\"The Scores for Wordlist Classifier:\")\n",
        "print(\"-----------------------------------\")\n",
        "(TP,TN,FP,FN,Total,Accuracy,Error_rate,Recall,Precision,F1_score)=wordlist_score_calculator(predicted_list,normalized_testing_data)\n",
        "print(\"TP: {}\\nTN: {}\\nFP: {}\\nFN: {}\\nTotal: {}\\nAccuracy: {:.2f}\\nError_rate: {:.2f}\\nRecall: {:.2f}\\nPrecision: {:.2f}\\nF1 Score: {:.2f}\".format(TP,TN,FP,FN,Total,Accuracy,Error_rate,Recall,Precision,F1_score))\n",
        "print(\"-----------------------------------\")"
      ]
    },
    {
      "cell_type": "markdown",
      "metadata": {
        "id": "AVZp0N5J2XUL"
      },
      "source": [
        "## **Answer of 3.Question b)**\n",
        "\n",
        "1.   To use accuracy all the time as an indicator of our model can cause some problems. Specially, if we have a unbalanced data.\n",
        "\n",
        "2. If we had a dataset in which the positive reviews cover 95% of all, the predicted negative reviews would have been really less. So, the accuracy would be pretty high, since our model could detect positive more likely.\n",
        "\n",
        "3. If a disease-diagnosing model which were trained by an unbalanced data is taken as an example, we can think that our model works well because of having a pretty high accuracy, for example 95%. However, the total number of data may be 10 and 90 for negative and positive data labels respectively. Because of that, our model doesn’t work well.\n",
        "\n",
        "4.  Instead, precision and recall can be better indicator to check how the model works well, because almost all of the values (TP,FN,FP) are taken into account in this parameter. Additionally, we can use F1-score in which both precision and recall are used for calculation.\n"
      ]
    },
    {
      "cell_type": "markdown",
      "source": [
        "# **QUESTION 4**"
      ],
      "metadata": {
        "id": "0tjP06OzYCSa"
      }
    },
    {
      "cell_type": "markdown",
      "metadata": {
        "id": "LIS9UpmJNEAp"
      },
      "source": [
        "4)\n",
        "a)  **Construct** a Naive Bayes classifier (e.g., from NLTK).\n",
        "\n",
        "b)  **Compare** the performance of your word list classifier with the Naive Bayes classifier.  **Discuss** your results.\n",
        "\n",
        "[12.5\\%]"
      ]
    },
    {
      "cell_type": "markdown",
      "source": [
        "## **Answer of 4.Question a)**"
      ],
      "metadata": {
        "id": "xl-YX02I-H4b"
      }
    },
    {
      "cell_type": "markdown",
      "source": [
        "### **Creating Frequency Distribution Lists for Naive Bayes Classifier:**"
      ],
      "metadata": {
        "id": "ryE35OcCxNvf"
      }
    },
    {
      "cell_type": "code",
      "execution_count": 95,
      "metadata": {
        "id": "Gwjig-Y12XUN"
      },
      "outputs": [],
      "source": [
        "#creating freq dists for both training and testing data for being able to use in the model\n",
        "normalized_training_data_bayes = [(FreqDist(word), \"pos\" if label == \"pos\" else \"neg\" ) for word, label in normalized_training_data]\n",
        "normalized_testing_data_bayes = [(FreqDist(word), \"pos\" if label == \"pos\" else \"neg\" ) for word, label in normalized_testing_data]"
      ]
    },
    {
      "cell_type": "markdown",
      "source": [
        "### **Creating Naive Bayes Classifier**"
      ],
      "metadata": {
        "id": "l8qB3pelxVnN"
      }
    },
    {
      "cell_type": "code",
      "execution_count": 96,
      "metadata": {
        "id": "3AUsYRMa2XUN"
      },
      "outputs": [],
      "source": [
        "#creating a Naive Bayes Classifier\n",
        "from nltk.classify.api import ClassifierI\n",
        "import math\n",
        "class NBClassifier(ClassifierI):\n",
        "\n",
        "    def _init_(self):\n",
        "\n",
        "        pass\n",
        "\n",
        "    def _set_known_vocabulary(self,training_data):\n",
        "\n",
        "        known=[]\n",
        "        for doc,label in training_data:\n",
        "            known+=list(doc.keys())\n",
        "        self.known= set(known)\n",
        "\n",
        "    def _set_priors(self,training_data):\n",
        "\n",
        "        priors={}\n",
        "        for (doc,label) in training_data:\n",
        "            priors[label]=priors.get(label,0)+1\n",
        "        total=sum(priors.values())\n",
        "        for key,value in priors.items():\n",
        "            priors[key]=value/total\n",
        "        self.priors=priors\n",
        "\n",
        "    def _set_cond_probs(self,training_data):\n",
        "\n",
        "        conds={}\n",
        "        for(doc,label) in training_data:\n",
        "            classcond=conds.get(label,{})\n",
        "            for word in doc.keys():\n",
        "                classcond[word]=classcond.get(word,0)+1\n",
        "\n",
        "            conds[label]=classcond\n",
        "\n",
        "        for label, classcond in conds.items():\n",
        "            for word in self.known:\n",
        "\n",
        "                classcond[word]=classcond.get(word,0)+1\n",
        "            conds[label]=classcond\n",
        "\n",
        "        for label,dist in conds.items():\n",
        "            total=sum(dist.values())\n",
        "            conds[label]={key:value/total for (key,value) in dist.items()}\n",
        "\n",
        "        self.conds=conds\n",
        "\n",
        "    def train(self,training_data):\n",
        "        self._set_known_vocabulary(training_data)\n",
        "        self._set_priors(training_data)\n",
        "        self._set_cond_probs(training_data)\n",
        "\n",
        "    def classify(self,doc):\n",
        "\n",
        "        doc_probs={key:math.log(value) for (key,value) in self.priors.items()}\n",
        "        for word in doc.keys():\n",
        "            if word in self.known:\n",
        "                doc_probs={classlabel:sofar+math.log(self.conds[classlabel].get(word,0)) for (classlabel,sofar) in doc_probs.items()}\n",
        "\n",
        "        highprob=max(doc_probs.values())\n",
        "        classes=[c for c in doc_probs.keys() if doc_probs[c]==highprob]\n",
        "        return random.choice(classes)"
      ]
    },
    {
      "cell_type": "code",
      "source": [
        "#create an instance of an NBClassifier and apply it to the test data\n",
        "myclassifier=NBClassifier()\n",
        "myclassifier.train(normalized_training_data_bayes)\n",
        "bayes_predict_list=myclassifier.classify_many(doc for (doc,label) in normalized_testing_data_bayes)"
      ],
      "metadata": {
        "id": "sKpyFy6w2dzX"
      },
      "execution_count": 97,
      "outputs": []
    },
    {
      "cell_type": "code",
      "source": [
        "#printing results\n",
        "number_pos_b=0\n",
        "number_neg_b=0\n",
        "for i in bayes_predict_list:\n",
        "  if i=='pos':\n",
        "    number_pos_b+=1\n",
        "  elif i=='neg':\n",
        "    number_neg_b+=1\n",
        "total_b=number_pos_b+number_neg_b\n",
        "\n",
        "print(\"The number of positive prediction: {}\\nThe number of negative prediction: {}\\nTotal number of predicted data: {}\".format(number_pos_b,number_neg_b,total_b))\n",
        "print(\"-------------------------------------------------------------------------\")\n",
        "print(\"The label of the first review of the predicted list: {}\".format(predicted_list[0][-1]))"
      ],
      "metadata": {
        "colab": {
          "base_uri": "https://localhost:8080/"
        },
        "id": "5PltjH4K4RDK",
        "outputId": "e2851712-1a0c-452f-d4e1-4a4038b08bdd"
      },
      "execution_count": 105,
      "outputs": [
        {
          "output_type": "stream",
          "name": "stdout",
          "text": [
            "The number of positive prediction: 311\n",
            "The number of negative prediction: 289\n",
            "Total number of predicted data: 600\n",
            "-------------------------------------------------------------------------\n",
            "The label of the first review of the predicted list: pos\n"
          ]
        }
      ]
    },
    {
      "cell_type": "markdown",
      "source": [
        "### **Creating a Function for Score Calculation in Naive Bayes Classifier**"
      ],
      "metadata": {
        "id": "3KQNGpFgxbvK"
      }
    },
    {
      "cell_type": "code",
      "source": [
        "#creating a function to calculate the scores for Naive Bayes Classifier\n",
        "def bayes_score_calculator(bayes_predict_list,normalized_testing_data):\n",
        "  TP_b=0\n",
        "  TN_b=0\n",
        "  FP_b=0\n",
        "  FN_b=0\n",
        "  for (label_pred),(i_act,label_act) in zip(bayes_predict_list,normalized_testing_data):\n",
        "    #True positive calculation\n",
        "    if label_act=='pos' and label_pred=='pos':\n",
        "      TP_b+=1\n",
        "    #True negative calculation\n",
        "    elif label_act=='neg' and label_pred=='neg':\n",
        "      TN_b+=1\n",
        "    #False positive calculation\n",
        "    elif label_act=='neg' and label_pred=='pos':\n",
        "      FP_b+=1\n",
        "    #False negative calculation\n",
        "    elif label_act=='pos' and label_pred=='neg':\n",
        "      FN_b+=1\n",
        "\n",
        "  Total_b=TP_b+TN_b+FP_b+FN_b\n",
        "  Accuracy_b=(TP_b+TN_b)/Total_b\n",
        "  Error_rate_b=(FN_b+FP_b)/Total_b\n",
        "  Recall_b=TP_b/(TP_b+FN_b)\n",
        "  Precision_b=TP_b/(TP_b+FP_b)\n",
        "  F1_score_b=2*Precision_b*Recall_b/(Precision_b+Recall_b)\n",
        "  return TP_b,TN_b,FP_b,FN_b,Total_b,Accuracy_b,Error_rate_b,Recall_b,Precision_b,F1_score_b\n"
      ],
      "metadata": {
        "id": "OKn68CiM6ctg"
      },
      "execution_count": 106,
      "outputs": []
    },
    {
      "cell_type": "markdown",
      "source": [
        "### **Printing the Score Parameters for Naive Bayes Classifier:**"
      ],
      "metadata": {
        "id": "wu2-stupxjm1"
      }
    },
    {
      "cell_type": "code",
      "source": [
        "#printing the scores for Naive Bayes Classifier\n",
        "(TP_b,TN_b,FP_b,FN_b,Total_b,Accuracy_b,Error_rate_b,Recall_b,Precision_b,F1_score_b)=bayes_score_calculator(bayes_predict_list,testing_data)\n",
        "print(\"The Scores for Naive Bayes Classier:\")\n",
        "print(\"-------------------------------------\")\n",
        "print(\"TP: {}\\nTN: {}\\nFP: {}\\nFN: {}\\nTotal: {}\\nAccuracy: {:.2f}\\nError_rate: {:.2f}\\nRecall: {:.2f}\\nPrecision: {:.2f}\\nF1 Score: {:.2f}\".format(TP_b,TN_b,FP_b,FN_b,Total_b,Accuracy_b,Error_rate_b,Recall_b,Precision_b,F1_score_b))\n",
        "print(\"-------------------------------------\")"
      ],
      "metadata": {
        "colab": {
          "base_uri": "https://localhost:8080/"
        },
        "id": "boQVZ-t34bg-",
        "outputId": "0df4f765-cce0-4326-cf15-79667dccba7f"
      },
      "execution_count": 107,
      "outputs": [
        {
          "output_type": "stream",
          "name": "stdout",
          "text": [
            "The Scores for Naive Bayes Classier:\n",
            "-------------------------------------\n",
            "TP: 252\n",
            "TN: 241\n",
            "FP: 59\n",
            "FN: 48\n",
            "Total: 600\n",
            "Accuracy: 0.82\n",
            "Error_rate: 0.18\n",
            "Recall: 0.84\n",
            "Precision: 0.81\n",
            "F1 Score: 0.82\n",
            "-------------------------------------\n"
          ]
        }
      ]
    },
    {
      "cell_type": "markdown",
      "source": [
        "## **Answer of 4.Question b)**"
      ],
      "metadata": {
        "id": "ToqUzPA8-MWe"
      }
    },
    {
      "cell_type": "markdown",
      "source": [
        "### **Bar Graph for the Comparison of the Performance of 2 Models**"
      ],
      "metadata": {
        "id": "fDiDFJ-Mxouc"
      }
    },
    {
      "cell_type": "code",
      "source": [
        "#plotting for comparison of 2 models\n",
        "import numpy as np\n",
        "plt.figure(figsize=(10,5))\n",
        "species = (\"Wordlists Classifier\", \"Naive Bayes Classifier\")\n",
        "parameters = {\n",
        "    'Accuracy': (round(Accuracy, 2),round(Accuracy_b, 2)),\n",
        "    'Recall': (round(Recall, 2), round(Recall_b, 2)),\n",
        "    'Precision': (round(Precision, 2), round(Precision_b, 2)),\n",
        "    'F1-Score': (round(F1_score, 2), round(F1_score_b, 2))\n",
        "}\n",
        "\n",
        "x = np.arange(len(species))  # the label locations\n",
        "width = 0.2  # the width of the bars\n",
        "multiplier = 0\n",
        "\n",
        "fig, ax = plt.subplots(layout='constrained')\n",
        "\n",
        "for attribute, measurement in parameters.items():\n",
        "    offset = width * multiplier\n",
        "    rects = ax.bar(x + offset, measurement, width, label=attribute)\n",
        "    ax.bar_label(rects, padding=3)\n",
        "    multiplier += 1\n",
        "\n",
        "# Add some text for labels, title and custom x-axis tick labels, etc.\n",
        "ax.set_ylabel('Rates')\n",
        "ax.set_title('Comparison of Classifiers')\n",
        "ax.set_xticks(x + width, species)\n",
        "ax.legend(loc='upper left', ncols=4)\n",
        "ax.set_ylim(0, 1.1)\n",
        "\n",
        "\n",
        "plt.show()"
      ],
      "metadata": {
        "colab": {
          "base_uri": "https://localhost:8080/",
          "height": 525
        },
        "id": "gm-EWDmGAR0t",
        "outputId": "6c0f21c8-6790-4750-b21f-559eaa247c65"
      },
      "execution_count": 109,
      "outputs": [
        {
          "output_type": "display_data",
          "data": {
            "text/plain": [
              "<Figure size 1000x500 with 0 Axes>"
            ]
          },
          "metadata": {}
        },
        {
          "output_type": "display_data",
          "data": {
            "text/plain": [
              "<Figure size 640x480 with 1 Axes>"
            ],
            "image/png": "[encoded data removed]"
          },
          "metadata": {}
        }
      ]
    },
    {
      "cell_type": "markdown",
      "metadata": {
        "id": "bytPkuHf2XUO"
      },
      "source": [
        "*   As it can be seen on the graph, the only parameter of *“Wordlists Classifier”* higher than “Naive Bayes Classifier” is **recall**(0.86). Recall gives success rate in real positive values, so the first classifer seems that it detects the positive reviews better. However, Naive Bayes Classifier doesn’t work bad neither.\n",
        "\n",
        "*  When it comes to **precision** for Wordlist Classifier specially, we can see that it is tend to makes the movie reviews label by positive more likely, while the success in prediction is not as good as recall. Because of that, consistency of the model cannot be trustable.\n",
        "\n",
        "*   As for **accuracy**, it’s obvious that the first classifier is pretty poor, since it classifies the data correctly 61%, while Naive Bayes makes it by 82%.\n",
        "\n",
        "*   Sometimes accuracy doesn’t give an accurate result due to unbalanced data. Even though we know that the dataset is not unbalanced (it can be seen below), checking the parameter of **F1-Score** makes the analysis perfect. Because it’s a kind of harmonic mean in which *precision* and *recall* are taken into account. From this point, it can be proved that Naive Bayes is the winner of the classifiers here.\n",
        "\n",
        "\n",
        "\n",
        "\n",
        "\n",
        "\n",
        "\n",
        "\n"
      ]
    },
    {
      "cell_type": "markdown",
      "source": [
        "### Data Distribution Check (whether it's balanced or unbalanced)"
      ],
      "metadata": {
        "id": "t-gO4exW7OK4"
      }
    },
    {
      "cell_type": "code",
      "source": [
        "#Data distribution check (whether it's balanced or unbalanced)\n",
        "train_c_pos=0\n",
        "train_c_neg=0\n",
        "\n",
        "test_c_pos=0\n",
        "test_c_neg=0\n",
        "for i in training_data:\n",
        "  if i[1]=='neg':\n",
        "    train_c_neg+=1\n",
        "  elif i[1]=='pos':\n",
        "    train_c_pos+=1\n",
        "for j in testing_data:\n",
        "  if j[1]=='neg':\n",
        "    test_c_neg+=1\n",
        "  elif j[1]=='pos':\n",
        "    test_c_pos+=1\n",
        "\n",
        "print(\"Training Dataset Distribution:\\n-----------------------------\\nThe number of positive reviews: {}\\nThe number of negative reviews: {}\\n-----------------------------------\\n-----------------------------------\\nTesting Dataset Distribution:\\n-----------------------------\\nThe number of positive reviews: {}\\nThe number of negative reviews: {}\\n\".format(train_c_pos,train_c_neg,test_c_pos,test_c_neg))"
      ],
      "metadata": {
        "colab": {
          "base_uri": "https://localhost:8080/"
        },
        "id": "QjOKr_31t7Zl",
        "outputId": "8fa6935d-f008-4832-f172-8392dfe1f36e"
      },
      "execution_count": 116,
      "outputs": [
        {
          "output_type": "stream",
          "name": "stdout",
          "text": [
            "Training Dataset Distribution:\n",
            "-----------------------------\n",
            "The number of positive reviews: 700\n",
            "The number of negative reviews: 700\n",
            "-----------------------------------\n",
            "-----------------------------------\n",
            "Testing Dataset Distribution:\n",
            "-----------------------------\n",
            "The number of positive reviews: 300\n",
            "The number of negative reviews: 300\n",
            "\n"
          ]
        }
      ]
    },
    {
      "cell_type": "markdown",
      "source": [
        "# **QUESTION 5**"
      ],
      "metadata": {
        "id": "7GthPX-zZvMT"
      }
    },
    {
      "cell_type": "markdown",
      "metadata": {
        "id": "LGDXaVDqOSfY"
      },
      "source": [
        "5)\n",
        "a) Design and **carry out an experiment** into the impact of the **length of the wordlists** on the wordlist classifier.  Make sure you **describe** design decisions in your experiment, include a **graph** of your results and **discuss** your conclusions.\n",
        "\n",
        "b) Would you **recommend** a wordlist classifier or a Naive Bayes classifier for future work in this area?  **Justify** your answer.\n",
        "\n",
        "[25\\%]\n"
      ]
    },
    {
      "cell_type": "markdown",
      "source": [
        "## **Answer of 5.Question a)**"
      ],
      "metadata": {
        "id": "x3t831I0TjU7"
      }
    },
    {
      "cell_type": "markdown",
      "source": [
        "### **Designing of the experiment:**"
      ],
      "metadata": {
        "id": "-YxAL4cu7wWB"
      }
    },
    {
      "cell_type": "markdown",
      "source": [
        "\n",
        "\n",
        "*   Because of checking the impact of the length of the wordlists on the classifier called wordlists, the value of the list of element must be changed one by one over the both representative lists.*(Loop is needed.)*\n",
        "\n",
        "*   The number of the elements must be on the x-axis.*(The variable of the loop must represent the X-axis)*\n",
        "\n",
        "*   To see how it affects the model, it's better to check the score parameters such as accuracy, and recall, and precision.*(Calculating of these values in each loop and taking them into different lists are necessary.)*\n",
        "\n",
        "*   The value of these parameters must be on the y-axis.*(Each list of parameter must be specified as Y values.)*\n",
        "\n",
        "*   Instead of showing all in the same graph, plotting 3 different graphs for each parameter makes understanding easier.*(Subplot is needed.)*\n",
        "\n",
        "\n",
        "\n",
        "\n",
        "\n",
        "\n",
        "\n",
        "\n"
      ],
      "metadata": {
        "id": "A05n3KPG72P5"
      }
    },
    {
      "cell_type": "markdown",
      "source": [
        "### **Experiment of the impact of the length of the wordlists on the wordlist classifier:**"
      ],
      "metadata": {
        "id": "5DXRcuKxZ3zK"
      }
    },
    {
      "cell_type": "code",
      "execution_count": 124,
      "metadata": {
        "id": "VT82P88M2XUQ"
      },
      "outputs": [],
      "source": [
        "list_accuracy=[]\n",
        "list_recall=[]\n",
        "list_precision=[]\n",
        "list_i=[]\n",
        "\n",
        "for i in range(1,200):\n",
        "  (number_pos,number_neg,total,notr,predicted_list)=wordlist_classifier(testing_data,filtered_pos[:i],filtered_neg[:i])\n",
        "  (TP,TN,FP,FN,Total,Accuracy,Error_rate,Recall,Precision,F1_score)=wordlist_score_calculator(predicted_list,testing_data)\n",
        "  list_i.append(i)\n",
        "  list_accuracy.append(Accuracy)\n",
        "  list_recall.append(Recall)\n",
        "  list_precision.append(Precision)"
      ]
    },
    {
      "cell_type": "markdown",
      "source": [
        "### **Plotting of the Graphs of the Results:**"
      ],
      "metadata": {
        "id": "44TokDfJ-XUe"
      }
    },
    {
      "cell_type": "code",
      "source": [
        "plt.figure(figsize=(27,7))\n",
        "plt.subplot(1, 3, 1)\n",
        "plt.plot(list_i,list_accuracy)\n",
        "plt.xlabel(\"Number of Reresentative Content Words\")\n",
        "plt.ylabel(\"Accuracy\")\n",
        "plt.title(\"Change in Accuracy According to the Number of Representative Words\")\n",
        "plt.subplot(1, 3, 2)\n",
        "plt.plot(list_i,list_recall)\n",
        "plt.xlabel(\"Number of Reresentative Content Words\")\n",
        "plt.ylabel(\"Recall\")\n",
        "plt.title(\"Change in Recall According to the Number of Representative Words\")\n",
        "plt.subplot(1, 3, 3)\n",
        "plt.plot(list_i,list_precision)\n",
        "plt.xlabel(\"Number of Reresentative Content Words\")\n",
        "plt.ylabel(\"Precision\")\n",
        "plt.title(\"Change in Precision According to the Number of Representative Words\")\n",
        "plt.show()"
      ],
      "metadata": {
        "id": "gedL1zq2XJDP",
        "colab": {
          "base_uri": "https://localhost:8080/",
          "height": 383
        },
        "outputId": "6cc50a54-910e-444c-b90f-4c77e7f8779a"
      },
      "execution_count": 125,
      "outputs": [
        {
          "output_type": "display_data",
          "data": {
            "text/plain": [
              "<Figure size 2700x700 with 3 Axes>"
            ],
            "image/png": "[encoded data removed]"
          },
          "metadata": {}
        }
      ]
    },
    {
      "cell_type": "markdown",
      "source": [
        "### **Comments for Graphs:**"
      ],
      "metadata": {
        "id": "oeebiPYP-f-Y"
      }
    },
    {
      "cell_type": "markdown",
      "source": [
        "\n",
        "*   **Accuracy Graph:** According to the number of content words, it can be seen that the more words, the more accuracy. However, it's not close to the one holding by Naive Bayes. The pick point(around 0.68) of the number of words is about 150 out of 200. Normally, we can get 61% of accuracy by 10 words, so there is no necessity to increase the number of vocabularies to get nearly 7% better result in terms of accuracy.\n",
        "\n",
        "*   **Recall Graph:** Recall jumps to 97% nearly at the number of 100 roughly (it was 86% with 10 words). If we want to make a model which we care about only real positive success rate, and the time is not important for us, then it can be tried. However, such a model is not preferred when the precision is checked.\n",
        "\n",
        "*   **Precision Graph:** Not only other parameters increase when the more words are taken into account, but also the precision climbs. When about 150 data is taken, the precision grows by the rate of 5% almost(from 57% to 62%). It gives the success rate in predicted positive labelled data.\n",
        "----------------------------\n",
        "Overall, it can be seen that the ratios of all have the minimum value for accuracy and precision, while all jump suddenly just after 100 words.\n",
        "However, it's not necessary to take 100 or 200 words to get this result which is still not good to make a prediction model for movie reviews or any other field that it can be applied."
      ],
      "metadata": {
        "id": "MBsF8ercXQM5"
      }
    },
    {
      "cell_type": "markdown",
      "source": [
        "## **Answer of 5.Question b)**"
      ],
      "metadata": {
        "id": "H_prDXpYTrz4"
      }
    },
    {
      "cell_type": "markdown",
      "source": [
        "*   **Wordlists Classifier:**\n",
        "\n",
        "1.   **Advantages:**\n",
        "If we are dealing with a really simple stable problem, and if we can classify the text with the exact keywords, then we can just build this classifier to make up a simple conclusion in a shorter time.\n",
        "\n",
        "2.   **Disadvantages:**\n",
        "It cannot work with a new dataset. If the variety of word is wider, it may not work properly.\n",
        "\n",
        "\n",
        "\n",
        "\n",
        "*   **Naive Bayes Classifier:**\n",
        "\n",
        "1.   **Advantages:**\n",
        "It approaches the dataset in a more statistical way by taking likelihood. Hence, it can adapt to a new dataset easily. When we have a more complex dataset, we can see the relationship in a better way.\n",
        "\n",
        "2.   **Disadvantages:**\n",
        "Even if it gives more precise result, building up the model takes more time because of having a strong structure made of probability.\n",
        "\n",
        "--------------\n",
        "**Recommendation:**\n",
        "Even though Naive Bayes takes more time, I would recommend ***Naive Bayes Classifier*** instead of *Wordlists Classifier* without any doubts.\n"
      ],
      "metadata": {
        "id": "oNmMO0A2aD8h"
      }
    },
    {
      "cell_type": "markdown",
      "source": [
        "# **The Number of Words in the Assignment:**"
      ],
      "metadata": {
        "id": "i-tFCsksORRt"
      }
    },
    {
      "cell_type": "code",
      "execution_count": 129,
      "metadata": {
        "colab": {
          "base_uri": "https://localhost:8080/"
        },
        "id": "34rdlS_iPov6",
        "outputId": "ee95e3fb-7482-4ea3-afe1-4217ffef63f6"
      },
      "outputs": [
        {
          "output_type": "stream",
          "name": "stdout",
          "text": [
            "Drive already mounted at /content/drive; to attempt to forcibly remount, call drive.mount(\"/content/drive\", force_remount=True).\n",
            "Submission length is 1340\n"
          ]
        }
      ],
      "source": [
        "##This code will word count all of the markdown cells in the notebook saved at filepath\n",
        "\n",
        "import io\n",
        "from nbformat import current\n",
        "\n",
        "from google.colab import drive\n",
        "drive.mount('/content/drive')\n",
        "\n",
        "filepath=\"/content/drive/MyDrive/Colab Notebooks/ANLPassignment2023.ipynb\"\n",
        "question_count=432\n",
        "\n",
        "with io.open(filepath, 'r', encoding='utf-8') as f:\n",
        "    nb = current.read(f, 'json')\n",
        "\n",
        "word_count = 0\n",
        "for cell in nb.worksheets[0].cells:\n",
        "    if cell.cell_type == \"markdown\":\n",
        "        word_count += len(cell['source'].replace('#', '').lstrip().split(' '))\n",
        "print(\"Submission length is {}\".format(word_count-question_count))"
      ]
    },
    {
      "cell_type": "code",
      "source": [],
      "metadata": {
        "id": "qa4jvVFLQCMl"
      },
      "execution_count": null,
      "outputs": []
    }
  ],
  "metadata": {
    "colab": {
      "provenance": []
    },
    "kernelspec": {
      "display_name": "Python 3",
      "language": "python",
      "name": "python3"
    },
    "language_info": {
      "codemirror_mode": {
        "name": "ipython",
        "version": 3
      },
      "file_extension": ".py",
      "mimetype": "text/x-python",
      "name": "python",
      "nbconvert_exporter": "python",
      "pygments_lexer": "ipython3",
      "version": "3.7.4"
    }
  },
  "nbformat": 4,
  "nbformat_minor": 0
}